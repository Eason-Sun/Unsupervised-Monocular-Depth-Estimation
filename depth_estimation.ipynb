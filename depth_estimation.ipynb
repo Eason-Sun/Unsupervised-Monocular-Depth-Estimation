{
  "nbformat": 4,
  "nbformat_minor": 0,
  "metadata": {
    "accelerator": "GPU",
    "colab": {
      "name": "cs684_project7.ipynb",
      "provenance": [],
      "collapsed_sections": [],
      "toc_visible": true
    },
    "kernelspec": {
      "display_name": "Python 3",
      "language": "python",
      "name": "python3"
    },
    "language_info": {
      "codemirror_mode": {
        "name": "ipython",
        "version": 3
      },
      "file_extension": ".py",
      "mimetype": "text/x-python",
      "name": "python",
      "nbconvert_exporter": "python",
      "pygments_lexer": "ipython3",
      "version": "3.6.9"
    }
  },
  "cells": [
    {
      "cell_type": "markdown",
      "metadata": {
        "id": "2xDbhOWBEcnI",
        "colab_type": "text"
      },
      "source": [
        "# Unsupervised Monocular Depth Estimation"
      ]
    },
    {
      "cell_type": "markdown",
      "metadata": {
        "colab_type": "text",
        "id": "j55Huy1DpbM-"
      },
      "source": [
        "# Abstract\n",
        "The ultimate goal of this project is to produce a depth map given a single input image. The vast majority of attempts approach this in a supervised way, which requires ground truth depth information in the training phase. The downside is that the depth data is not only expensive to collect due to the complicated hardware requirements but also imprecise under various lightning conditions that are inevitable in the natural scene.\n",
        "\n",
        "\"Unsupervised Monocular Depth Estimation with Left-Right Consistency\" https://arxiv.org/pdf/1609.03677.pdf by  Clément Godard, Oisin Mac Aodha and Gabriel J. Brostow posed the depth estimation as an image reconstruction problem, which bypasses the needs for the depth information. They achieved this by proposing a fully connected deep neural network, and minimizing loss in appearance matching, disparity smoothness and left-right disparity consistency.\n"
      ]
    },
    {
      "cell_type": "markdown",
      "metadata": {
        "colab_type": "text",
        "id": "aBUnJVF78C0U"
      },
      "source": [
        "# Introduction"
      ]
    },
    {
      "cell_type": "markdown",
      "metadata": {
        "colab_type": "text",
        "id": "JgonEHS07_g_"
      },
      "source": [
        "## Network Architecture at High Level\n",
        "\n",
        "![alt text](https://drive.google.com/uc?id=1bz8aXhrg9VzrWpje2Dyw4AimVqsREKWs)\n",
        "\n"
      ]
    },
    {
      "cell_type": "markdown",
      "metadata": {
        "colab_type": "text",
        "id": "sHWQcE5Y8IAD"
      },
      "source": [
        "The training dataset is composed of calibrated stereo images. The left images are denoted as $I^l$, and right images are denoted as $I^r$.\n",
        "\n",
        "The naïve way is to feed the left image into the fully connected deep neural network which tries to learn the disparity mapping of right image from its left counterpart, and the disparity matrix is denoted as $d^r$. Then, by sampling the left image according to $d^r$, we should synthesize the right image, denoted as ${\\tilde{I}}^r$. Finally, we compare with the ground truth right image $I^r$ and backpropagate the loss to update network parameters.\n",
        "\n",
        "As a monocular depth estimation, the output disparity should be aligned with the single input image so that the naïve approach is not applicable in this case. No LR approach solves this problem by letting the network to learn the disparity map of left image from the right one. In this way, we can recover the left input image by sampling the right input image and compare with the ground truth.\n",
        "\n",
        "The architecture can be further refined by training the network with the left image so that it produces both disparity maps which then can be compared with stereo pairs. This approach mitigates the “text-copy” artifact from the No LR approach and significantly boosts the result.\n"
      ]
    },
    {
      "cell_type": "markdown",
      "metadata": {
        "colab_type": "text",
        "id": "zJru46Ow9K3I"
      },
      "source": [
        " # The detailed of network structure\n",
        "## Use Yellow Block stands for layers of convolution layers in a resblock_basic\n",
        "![alt text](https://drive.google.com/uc?id=0Bwv6v6bgdX__UUVvWG5lblF2dU1sa2ZLYTZvWE52VU8yM2FF)\n",
        "## Use Black Block stands for layers of convolution layers in a resblock_basic\n",
        "![alt text](https://drive.google.com/uc?id=0Bwv6v6bgdX__a2trdGZtRUtxRHhEUU1xSkF0OGlBaDlDNUpv)\n",
        "## The Overall Neural Network Structure\n",
        "![alt text](https://drive.google.com/uc?id=0Bwv6v6bgdX__XzF5aW1sNGVqd01PajdKenNHOG1yWUlPb05R)"
      ]
    },
    {
      "cell_type": "markdown",
      "metadata": {
        "colab_type": "text",
        "id": "EZsEjejO8LUG"
      },
      "source": [
        "## Image Sampler\n",
        "To synthesize the estimated image from the target’s disparity. The model adopts the image sampler from spatial transformer network (STN). The motivation is that STN chooses bilinear sampling so that it is fully differentiable. \n",
        "\n",
        "The code block below demonstrates that, given a left image and disparity map of right image from the left image, we can use grid_sample() to reconstruct the right image. Suppose both left and right images are 3x4x1, and the foreground object on the left image has disparity of 1.\n",
        "\n",
        "First, we generate the constant flow field without any disparity applied. We can observe that, grid_sample() produces the identical left image. \n",
        "\n",
        "Then, we create a disparity map and add it to the flow_field along x-direction (For rectified stereo pairs, objects are shifted along epipolar lines that are parallel along x-direction). The output image is the reconstructed right image. Note that the disparity matrix here is equivalent but not equal to not the pixel-level disparity, but this is not an issuce since it is learned by the network. \n",
        "\n"
      ]
    },
    {
      "cell_type": "code",
      "metadata": {
        "colab_type": "code",
        "id": "IMHN7WcK8gkn",
        "outputId": "7fe8fed4-44f7-4632-dd3e-36c64736afb2",
        "scrolled": true,
        "colab": {
          "base_uri": "https://localhost:8080/",
          "height": 474
        }
      },
      "source": [
        "import warnings\n",
        "warnings.simplefilter(\"ignore\")\n",
        "import torch\n",
        "\n",
        "width=4\n",
        "height=3\n",
        "left_image = torch.zeros(12).view(3,4)\n",
        "left_image[:,2]=5\n",
        "left_image = left_image.view(1,1,3,4).float()\n",
        "print(f\"Example left input image:\\n{left_image}\")\n",
        "\n",
        "rows = torch.linspace(0, 1, height)\n",
        "cols = torch.linspace(0, 1, width)\n",
        "y, x = torch.meshgrid(rows, cols)\n",
        "\n",
        "print(f'\\nConstruct a constant flow field in x direction:\\n{x}')\n",
        "flow = torch.stack((x,y), dim=2).unsqueeze(0)\n",
        "output_image_1 = torch.nn.functional.grid_sample(left_image, 2*flow-1, mode='bilinear', padding_mode='zeros')\n",
        "print(f'\\nThe output image should look identical to the left input image:\\n{output_image_1}')\n",
        "\n",
        "print('----------------------------------------------------------------')\n",
        "\n",
        "# Disparity (trainable) is the output from the network\n",
        "disparity = torch.zeros(12).view(3,4)\n",
        "disparity[:,1]=1/3\n",
        "disparity[:,2]=-2/3\n",
        "\n",
        "print(f'\\nFlow field after apply disparity map:\\n{x + disparity}')\n",
        "flow_with_disparity = torch.stack((x + disparity, y), dim=2).unsqueeze(0)\n",
        "pred_right_image = torch.nn.functional.grid_sample(left_image, 2*flow_with_disparity-1, mode='bilinear', padding_mode='zeros')\n",
        "print(f'\\nThe output image is the reconstructed right image by shifting the object in the left image to the left by one pixel:\\n{pred_right_image}\\n')"
      ],
      "execution_count": 0,
      "outputs": [
        {
          "output_type": "stream",
          "text": [
            "Example left input image:\n",
            "tensor([[[[0., 0., 5., 0.],\n",
            "          [0., 0., 5., 0.],\n",
            "          [0., 0., 5., 0.]]]])\n",
            "\n",
            "Construct a constant flow field in x direction:\n",
            "tensor([[0.0000, 0.3333, 0.6667, 1.0000],\n",
            "        [0.0000, 0.3333, 0.6667, 1.0000],\n",
            "        [0.0000, 0.3333, 0.6667, 1.0000]])\n",
            "\n",
            "The output image should look identical to the left input image:\n",
            "tensor([[[[0., 0., 5., 0.],\n",
            "          [0., 0., 5., 0.],\n",
            "          [0., 0., 5., 0.]]]])\n",
            "----------------------------------------------------------------\n",
            "\n",
            "Flow field after apply disparity map:\n",
            "tensor([[0.0000, 0.6667, 0.0000, 1.0000],\n",
            "        [0.0000, 0.6667, 0.0000, 1.0000],\n",
            "        [0.0000, 0.6667, 0.0000, 1.0000]])\n",
            "\n",
            "The output image is the reconstructed right image by shifting the object in the left image to the left by one pixel:\n",
            "tensor([[[[0., 5., 0., 0.],\n",
            "          [0., 5., 0., 0.],\n",
            "          [0., 5., 0., 0.]]]])\n",
            "\n"
          ],
          "name": "stdout"
        }
      ]
    },
    {
      "cell_type": "markdown",
      "metadata": {
        "colab_type": "text",
        "id": "vLVuoJzP8lwm"
      },
      "source": [
        "## Loss Functions\n",
        "\n",
        "### 1) Appearance Matching Loss:\n",
        "Appearance matching loss is the weighted sum of the L1 loss and single scale structural similarity index measure (SSIM) loss.\n",
        "\n",
        "$$SSIM(x,y)=\\frac{(2\\mu_x\\mu_y+C_1)(2\\sigma_{xy}+C_2)}{({\\mu_x}^2+{\\mu_y}^2+C_1)({\\sigma_x}^2+{\\sigma_y}^2+C_2)}$$, \n",
        "\n",
        "where $C_1=(0.1L)^2$, $C_1=(0.3L)^2$ and L is the dynamic range (e.g. $L=1$). Note that the above means, variances and covariances are computed locally using a sliding $3\\times3$ kernel by *torch.nn.AvgPool2d(kernel_size=3, stride=1)*.\n",
        "\n",
        "$$L_1(x,y)=|x-y|$$\n",
        "\n",
        "As a result, the photometric image reconstruction loss $C^l_{ap}$ between the left image $I^l$ and the synthesized left image ${\\tilde{I}}^l$ is (weight of SSIM is set to 0.85),\n",
        "\n",
        "$$C^l_{ap}=\\frac{1}{N}\\sum_{i,j}{\\alpha\\frac{1-SSIM(I^l_{ij},{\\tilde{I}}^l_{ij})}{2}+(1-\\alpha)\\lVert I^l_{ij}-{\\tilde{I}}^l_{ij}\\rVert)}$$\n",
        "\n",
        "\n",
        "### 2) Disparity Smoothness Loss:\n",
        "The disparity smoothness loss serves as the regularization term which penalizes disparity discontinuity over photo-consistent area of the image and encourages disparity change at image boundaries. It ensures that pixels belonging to the same object would have same disparity.\n",
        "\n",
        "The implementation uses the bounded Gaussian kernel as the loss function. The image gradients and disparity gradients are calculated along both directions. The disparity smoothness loss of the left image is denoted as $C^l_{ds}$,\n",
        "\n",
        "$$C^l_{ds}=\\frac{1}{N}\\sum_{i,j}{|\\partial_xd^l_{ij}|e^{-\\lVert \\partial_xI^l_{i,j}\\rVert}+|\\partial_yd^l_{ij}|e^{-\\lVert \\partial_yI^l_{i,j}\\rVert}}$$\n",
        "\n",
        "As the formula shown, as the image gradient decrease (same object or constant background), increase of disparity gradient would incur higher smoothness loss. This penalty weight is bounded by 1 ($\\partial_xd^l_{ij}\\rightarrow 0, e^{-\\lVert \\partial_xI^l_{i,j}\\rVert}\\rightarrow 1$).\n",
        "\n",
        "On the contrary, when it detects a large jump in pixel values (e.g. boundaries), the penalty weight decreases accordingly. To the extreme degree, as $\\partial_xd^l_{ij}\\rightarrow \\infty, e^{-\\lVert \\partial_xI^l_{i,j}\\rVert}\\rightarrow 0$. In this case, change in disparity of any value won't incur any cost.\n",
        "\n",
        "\n",
        "### 3) Left-Right Disparity Consistency Loss:\n",
        "The final loss ensures the coherence between the left and right disparity maps, that is, given the right disparity map, by applying a left disparity transforms, we can recover the same left disparity map:\n",
        "\n",
        "$$C^l_{lr} = \\frac{1}{N}\\sum_{i,j}{d^l_{ij} -d^r_{ij+d^l_{ij}}}$$\n",
        "\n",
        "For the implementation part, we reused the image sampler for the appearance matching loss. Instead of using image as input, we use disparity matrix.\n",
        "\n",
        "\n",
        "### 4) Total Loss:\n",
        "All the cost above has the right mirrored counterparts. The total loss is defined below:\n",
        "\n",
        "$$C_s=\\alpha_ap(C^l_{ap}+C^r_{ap})+\\alpha_{ds}(C^l_{ds}+C^r_{ds})+\\alpha_{lr}(C^l_{lr}+C^r_{lr})$$"
      ]
    },
    {
      "cell_type": "markdown",
      "metadata": {
        "colab_type": "text",
        "id": "NsnzTVDAv0GM"
      },
      "source": [
        "\n",
        "## Dataset\n",
        "In this Project the datasets we choose is the kitti dataset can be download from http://www.cvlibs.net/datasets/kitti/raw_data.php\n",
        "or it can be extract by the code below.\n",
        "The datasets used for training is located in \"dataset/train\" and the datasets used for validation is located in \"dataset/validation\". \n",
        "The model use the images under \"dataset/train/*/image_02/data\" as left image and the images under \"dataset/train/*/image_03/data\" as right image"
      ]
    },
    {
      "cell_type": "code",
      "metadata": {
        "colab_type": "code",
        "id": "K_PEBunDsfNl",
        "colab": {}
      },
      "source": [
        "# !wget -i kitti_archives_to_download.txt -P .\n",
        "!wget -i kitti_train.txt -P dataset/train\n",
        "!wget -i kitti_validation.txt -P dataset/validation"
      ],
      "execution_count": 0,
      "outputs": []
    },
    {
      "cell_type": "code",
      "metadata": {
        "colab_type": "code",
        "id": "yeauvdLfsnGE",
        "colab": {}
      },
      "source": [
        "\n",
        "!unzip /content/dataset/train/\\*.zip -d dataset/train\n",
        "!unzip /content/dataset/validation/\\*.zip -d dataset/validation"
      ],
      "execution_count": 0,
      "outputs": []
    },
    {
      "cell_type": "code",
      "metadata": {
        "colab_type": "code",
        "id": "HvPP43BIxyGJ",
        "colab": {}
      },
      "source": [
        "!mv /content/dataset/train/*/* /content/dataset/train\n",
        "!mv /content/dataset/validation/*/* /content/dataset/validation"
      ],
      "execution_count": 0,
      "outputs": []
    },
    {
      "cell_type": "markdown",
      "metadata": {
        "colab_type": "text",
        "id": "8GXQEIfXB_Qt"
      },
      "source": [
        "# Contribution\n",
        "Abstract: Yixing Sun\n",
        "\n",
        "Introduction: Yixing Sun, Jiaheng Zhao\n",
        "\n",
        "Code: Yixing Sun, Jiaheng Zhao\n",
        "\n",
        "Conclusion: Yixing Sun, Jiaheng Zhao\n"
      ]
    },
    {
      "cell_type": "markdown",
      "metadata": {
        "colab_type": "text",
        "id": "mUnqw7121EMS"
      },
      "source": [
        "## Data Transformations and Augmentations"
      ]
    },
    {
      "cell_type": "code",
      "metadata": {
        "colab_type": "code",
        "id": "FLS0Qld81Dfg",
        "colab": {}
      },
      "source": [
        "import torch\n",
        "import torchvision.transforms as transforms\n",
        "import numpy as np\n",
        "\n",
        "def apply_transformations(mode='train'):\n",
        "    if mode == 'train':\n",
        "        data_transform = transforms.Compose([\n",
        "            ResizeImage(train=True),\n",
        "            RandomFlip(),\n",
        "            ToTensor(train=True),\n",
        "            AugmentImagePair()\n",
        "        ])\n",
        "        return data_transform\n",
        "    elif mode == 'test':\n",
        "        data_transform = transforms.Compose([\n",
        "            ResizeImage(train=False),\n",
        "            ToTensor(train=False),\n",
        "            DoTest(),\n",
        "        ])\n",
        "        return data_transform\n",
        "    else:\n",
        "        print('Wrong mode')\n",
        "\n",
        "\n",
        "class ResizeImage(object):\n",
        "    def __init__(self, train=True, size=(256, 512)):\n",
        "        self.train = train\n",
        "        self.transform = transforms.Resize(size)\n",
        "\n",
        "    def __call__(self, sample):\n",
        "        if self.train:\n",
        "            left_image = sample['left_image']\n",
        "            right_image = sample['right_image']\n",
        "            new_right_image = self.transform(right_image)\n",
        "            new_left_image = self.transform(left_image)\n",
        "            sample = {'left_image': new_left_image, 'right_image': new_right_image}\n",
        "        else:\n",
        "            left_image = sample\n",
        "            new_left_image = self.transform(left_image)\n",
        "            sample = new_left_image\n",
        "        return sample\n",
        "\n",
        "\n",
        "class DoTest(object):\n",
        "    def __call__(self, sample):\n",
        "        new_sample = torch.stack((sample, torch.flip(sample, [2])))\n",
        "        return new_sample\n",
        "\n",
        "\n",
        "class ToTensor(object):\n",
        "    def __init__(self, train):\n",
        "        self.train = train\n",
        "        self.transform = transforms.ToTensor()\n",
        "\n",
        "    def __call__(self, sample):\n",
        "        if self.train:\n",
        "            left_image = sample['left_image']\n",
        "            right_image = sample['right_image']\n",
        "            new_right_image = self.transform(right_image)\n",
        "            new_left_image = self.transform(left_image)\n",
        "            sample = {'left_image': new_left_image,\n",
        "                      'right_image': new_right_image}\n",
        "        else:\n",
        "            left_image = sample\n",
        "            sample = self.transform(left_image)\n",
        "        return sample\n",
        "\n",
        "\n",
        "class RandomFlip(object):\n",
        "    def __init__(self, do_augmentation=True):\n",
        "        self.transform = transforms.RandomHorizontalFlip(p=1)\n",
        "        self.do_augmentation = do_augmentation\n",
        "\n",
        "    def __call__(self, sample):\n",
        "        left_image = sample['left_image']\n",
        "        right_image = sample['right_image']\n",
        "        k = np.random.uniform(0, 1, 1)\n",
        "        if self.do_augmentation:\n",
        "            if k > 0.5:\n",
        "                fliped_left = self.transform(right_image)\n",
        "                fliped_right = self.transform(left_image)\n",
        "                sample = {'left_image': fliped_left, 'right_image': fliped_right}\n",
        "        else:\n",
        "            sample = {'left_image': left_image, 'right_image': right_image}\n",
        "        return sample\n",
        "\n",
        "\n",
        "class AugmentImagePair(object):\n",
        "    def __init__(self, augment_parameters=[0.8, 1.2, 0.5, 2.0, 0.8, 1.2], do_augmentation=True):\n",
        "        self.do_augmentation = do_augmentation\n",
        "        self.gamma_low = augment_parameters[0]  # 0.8\n",
        "        self.gamma_high = augment_parameters[1]  # 1.2\n",
        "        self.brightness_low = augment_parameters[2]  # 0.5\n",
        "        self.brightness_high = augment_parameters[3]  # 2.0\n",
        "        self.color_low = augment_parameters[4]  # 0.8\n",
        "        self.color_high = augment_parameters[5]  # 1.2\n",
        "\n",
        "    def __call__(self, sample):\n",
        "        left_image = sample['left_image']\n",
        "        right_image = sample['right_image']\n",
        "        p = np.random.uniform(0, 1, 1)\n",
        "        if self.do_augmentation:\n",
        "            if p > 0.5:\n",
        "                # randomly shift gamma\n",
        "                random_gamma = np.random.uniform(self.gamma_low, self.gamma_high)\n",
        "                left_image_aug = left_image ** random_gamma\n",
        "                right_image_aug = right_image ** random_gamma\n",
        "\n",
        "                # randomly shift brightness\n",
        "                random_brightness = np.random.uniform(self.brightness_low, self.brightness_high)\n",
        "                left_image_aug = left_image_aug * random_brightness\n",
        "                right_image_aug = right_image_aug * random_brightness\n",
        "\n",
        "                # randomly shift color\n",
        "                random_colors = np.random.uniform(self.color_low, self.color_high, 3)\n",
        "                for i in range(3):\n",
        "                    left_image_aug[i, :, :] *= random_colors[i]\n",
        "                    right_image_aug[i, :, :] *= random_colors[i]\n",
        "                # saturate\n",
        "                left_image_aug = torch.clamp(left_image_aug, 0, 1)\n",
        "                right_image_aug = torch.clamp(right_image_aug, 0, 1)\n",
        "\n",
        "                sample = {'left_image': left_image_aug, 'right_image': right_image_aug}\n",
        "\n",
        "        else:\n",
        "            sample = {'left_image': left_image, 'right_image': right_image}\n",
        "        return sample"
      ],
      "execution_count": 0,
      "outputs": []
    },
    {
      "cell_type": "markdown",
      "metadata": {
        "colab_type": "text",
        "id": "GCjUNn3zucsb"
      },
      "source": [
        "## Data Loader"
      ]
    },
    {
      "cell_type": "code",
      "metadata": {
        "colab_type": "code",
        "id": "GMmOFJTWuNsR",
        "colab": {}
      },
      "source": [
        "import os\n",
        "from PIL import Image\n",
        "from torch.utils.data import Dataset, DataLoader, ConcatDataset\n",
        "\n",
        "class Loader(Dataset):\n",
        "    def __init__(self, dir, mode='train', transform=None):\n",
        "        left_dir = os.path.join(dir, 'image_02/data/')\n",
        "        self.left_paths = sorted([os.path.join(left_dir, fname) for fname in os.listdir(left_dir)])\n",
        "        if mode == 'train':\n",
        "            right_dir = os.path.join(dir, 'image_03/data/')\n",
        "            self.right_paths = sorted([os.path.join(right_dir, fname) for fname in os.listdir(right_dir)])\n",
        "        self.transform = transform\n",
        "        self.mode = mode\n",
        "\n",
        "    def __len__(self):\n",
        "        return len(self.left_paths)\n",
        "\n",
        "    def __getitem__(self, idx):\n",
        "        left_image = Image.open(self.left_paths[idx])\n",
        "        if self.mode == 'train':\n",
        "            right_image = Image.open(self.right_paths[idx])\n",
        "            sample = {'left_image': left_image, 'right_image': right_image}\n",
        "\n",
        "            if self.transform:\n",
        "                sample = self.transform(sample)\n",
        "                return sample\n",
        "            else:\n",
        "                return sample\n",
        "        else:\n",
        "            if self.transform:\n",
        "                left_image = self.transform(left_image)\n",
        "            return left_image\n",
        "\n",
        "def create_dataloader(data_directory, mode, batch_size):\n",
        "    data_dirs = os.listdir(data_directory)\n",
        "    data_transform = apply_transformations(mode=mode)\n",
        "    datasets = [Loader(os.path.join(data_directory,\n",
        "                            data_dir), mode, transform=data_transform)\n",
        "                            for data_dir in data_dirs]\n",
        "    dataset = ConcatDataset(datasets)\n",
        "    n_img = len(dataset)\n",
        "    print('Use a dataset with', n_img, 'images')\n",
        "    if mode == 'train':\n",
        "        loader = DataLoader(dataset, batch_size=batch_size,\n",
        "                            shuffle=True, num_workers=8,\n",
        "                            pin_memory=True)\n",
        "    else:\n",
        "        loader = DataLoader(dataset, batch_size=batch_size,\n",
        "                            shuffle=False, num_workers=8,\n",
        "                            pin_memory=True)\n",
        "    return n_img, loader"
      ],
      "execution_count": 0,
      "outputs": []
    },
    {
      "cell_type": "markdown",
      "metadata": {
        "colab_type": "text",
        "id": "KQfO6RtG50u7"
      },
      "source": [
        "## Model"
      ]
    },
    {
      "cell_type": "code",
      "metadata": {
        "colab_type": "code",
        "id": "U3cGbDd5w-7m",
        "colab": {}
      },
      "source": [
        "import numpy as np\n",
        "import torch\n",
        "import torch.nn as nn\n",
        "import torch.nn.functional as F\n",
        "\n",
        "class conv(nn.Module):\n",
        "    def __init__(self, num_in_layers, num_out_layers, kernel_size, stride):\n",
        "        super(conv, self).__init__()\n",
        "        self.kernel_size = kernel_size\n",
        "        self.conv_base = nn.Conv2d(num_in_layers, num_out_layers, kernel_size=kernel_size, stride=stride)\n",
        "        self.normalize = nn.BatchNorm2d(num_out_layers)\n",
        "\n",
        "    def forward(self, x):\n",
        "        p = int(np.floor((self.kernel_size-1)/2))\n",
        "        p2d = (p, p, p, p)\n",
        "        x = self.conv_base(F.pad(x, p2d))\n",
        "        x = self.normalize(x)\n",
        "        return F.elu(x, inplace=True)\n",
        "\n",
        "class maxpool(nn.Module):\n",
        "\n",
        "    def __init__(self, kernel_size):\n",
        "        super(maxpool, self).__init__()\n",
        "        self.kernel_size = kernel_size\n",
        "\n",
        "    def forward(self, x):\n",
        "        p = int(np.floor((self.kernel_size-1) / 2))\n",
        "        p2d = (p, p, p, p)\n",
        "        return F.max_pool2d(F.pad(x, p2d), self.kernel_size, stride=2)\n",
        "\n",
        "class resconv_basic(nn.Module):\n",
        "    def __init__(self, num_in_layers, num_out_layers, kernel_size, stride):\n",
        "        super(resconv_basic, self).__init__()\n",
        "        self.num_out_layers = num_out_layers\n",
        "        self.conv1 = conv(num_in_layers, num_out_layers, kernel_size, stride)\n",
        "        self.conv2 = conv(num_out_layers, num_out_layers, 3, 1)\n",
        "        self.conv3 = nn.Conv2d(num_in_layers, num_out_layers, kernel_size=1, stride=stride)\n",
        "        self.normalize = nn.BatchNorm2d(num_out_layers)\n",
        "\n",
        "    def forward(self, x):\n",
        "        x_out = self.conv1(x)\n",
        "        x_out = self.conv2(x_out)\n",
        "        shortcut = self.conv3(x)\n",
        "        return F.elu(self.normalize(x_out + shortcut), inplace=True)\n",
        "\n",
        "def resblock_basic(num_in_layers, num_out_layers, num_blocks, stride):\n",
        "    layers = []\n",
        "    layers.append(resconv_basic(num_in_layers, num_out_layers, 7, stride))\n",
        "    for i in range(1, num_blocks):\n",
        "        layers.append(resconv_basic(num_out_layers, num_out_layers, 3, 1))\n",
        "    return nn.Sequential(*layers)\n",
        "\n",
        "class upconv(nn.Module):\n",
        "    def __init__(self, num_in_layers, num_out_layers, kernel_size, scale):\n",
        "        super(upconv, self).__init__()\n",
        "        self.scale = scale\n",
        "        self.conv1 = conv(num_in_layers, num_out_layers, kernel_size, 1)\n",
        "\n",
        "    def forward(self, x):\n",
        "        x = nn.functional.interpolate(x, scale_factor=self.scale, mode='bilinear', align_corners=True)\n",
        "        return self.conv1(x)\n",
        "\n",
        "\n",
        "class get_disp(nn.Module):\n",
        "    def __init__(self, num_in_layers):\n",
        "        super(get_disp, self).__init__()\n",
        "        self.conv1 = nn.Conv2d(num_in_layers, 2, kernel_size=3, stride=1)\n",
        "        self.normalize = nn.BatchNorm2d(2)\n",
        "        self.sigmoid = torch.nn.Sigmoid()\n",
        "\n",
        "    def forward(self, x):\n",
        "        p = 1\n",
        "        p2d = (p, p, p, p)\n",
        "        x = self.conv1(F.pad(x, p2d))\n",
        "        x = self.normalize(x)\n",
        "        return 0.3 * self.sigmoid(x)\n",
        "\n",
        "class Depth_Est_Model(nn.Module):\n",
        "    def __init__(self, num_in_layers):\n",
        "        super(Depth_Est_Model, self).__init__()\n",
        "        # encoder\n",
        "        self.conv1 = conv(num_in_layers, 64, 7, 2)\n",
        "        self.pool1 = maxpool(3)  # H/4  -   64D\n",
        "        self.conv2 = resblock_basic(64, 128, 3, 4)\n",
        "        self.conv3 = resblock_basic(128, 256, 3, 4)\n",
        "\n",
        "\n",
        "        # decoder\n",
        "        self.upconv4 = upconv(256, 128, 3, 4)\n",
        "        self.iconv4 = conv(128 + 128, 128, 3, 1)\n",
        "\n",
        "        self.upconv3 = upconv(128, 64, 3, 4)\n",
        "        self.iconv3 = conv(64 + 64, 64, 3, 1)\n",
        "\n",
        "        self.upconv2 = upconv(64, 32, 3, 2)\n",
        "        self.iconv2 = conv(32 + 64, 32, 3, 1)\n",
        "        self.disp2_layer = get_disp(32)\n",
        "\n",
        "        self.upconv1 = upconv(32, 16, 3, 2)\n",
        "        self.iconv1 = conv(16 + 2, 16, 3, 1)\n",
        "        self.disp1_layer = get_disp(16)\n",
        "\n",
        "        for m in self.modules():\n",
        "            if isinstance(m, nn.Conv2d):\n",
        "                nn.init.xavier_uniform_(m.weight)\n",
        "\n",
        "    def forward(self, x): # (8, 3, 256, 512)\n",
        "        # encoder\n",
        "        \n",
        "        x1 = self.conv1(x)  # (8, 64, 128 256)\n",
        "        x_pool1 = self.pool1(x1)  # (8, 64, 64, 128)\n",
        "        x2 = self.conv2(x_pool1)  # (8, 128, 16, 32)\n",
        "        x3 = self.conv3(x2)  # (8, 256, 4, 8)\n",
        "        # skips\n",
        "        skip1 = x1  # (8, 64, 128 256)\n",
        "        skip2 = x_pool1  # (8, 64, 64, 128)\n",
        "        skip3 = x2  # (8, 128, 16, 32)\n",
        "\n",
        "        # decoder\n",
        "        upconv4 = self.upconv4(x3)  # (8, 128, 16, 32)\n",
        "        concat4 = torch.cat((upconv4, skip3), 1)  # (8, 256, 16, 32)\n",
        "        iconv4 = self.iconv4(concat4)  # (8, 128, 16, 32)\n",
        "\n",
        "        upconv3 = self.upconv3(iconv4)  # (8, 64, 64, 128)\n",
        "        concat3 = torch.cat((upconv3, skip2), 1)  # (8, 128, 64, 128)\n",
        "        iconv3 = self.iconv3(concat3)  # (8, 64, 64, 128)\n",
        "\n",
        "        upconv2 = self.upconv2(iconv3)  # (8, 32, 128, 256)\n",
        "        concat2 = torch.cat((upconv2, skip1), 1)  # (8, 96, 128, 256)\n",
        "        iconv2 = self.iconv2(concat2)  # (8, 32, 128, 256)\n",
        "        self.disp2 = self.disp2_layer(iconv2) # (8, 2, 128, 256)\n",
        "        self.udisp2 = nn.functional.interpolate(self.disp2, scale_factor=2, mode='bilinear', align_corners=True)\n",
        "\n",
        "        upconv1 = self.upconv1(iconv2)  # (8, 16, 256, 512)\n",
        "        concat1 = torch.cat((upconv1, self.udisp2), 1)  # (8, 18, 256, 512)\n",
        "        iconv1 = self.iconv1(concat1)  # (8, 16, 128, 256)\n",
        "        self.disp1 = self.disp1_layer(iconv1)  # (8, 2, 256, 512)\n",
        "\n",
        "        return self.disp1"
      ],
      "execution_count": 0,
      "outputs": []
    },
    {
      "cell_type": "markdown",
      "metadata": {
        "colab_type": "text",
        "id": "LELZf6do6BZV"
      },
      "source": [
        "## Loss"
      ]
    },
    {
      "cell_type": "code",
      "metadata": {
        "colab_type": "code",
        "id": "8rgUtqxk6Em1",
        "colab": {}
      },
      "source": [
        "import torch\n",
        "import torch.nn as nn\n",
        "import torch.nn.functional as F\n",
        "\n",
        "\n",
        "class Loss(nn.modules.Module):\n",
        "\n",
        "    def __init__(self, structural_similarity_w=0.85, disp_smoothness_w=0.1, lr_disp_consistency_w=1.0):\n",
        "        super(Loss, self).__init__()\n",
        "        self.structural_similarity_w = structural_similarity_w\n",
        "        self.disp_smoothness_w = disp_smoothness_w\n",
        "        self.lr_disp_consistency_w = lr_disp_consistency_w\n",
        "\n",
        "    # Formula to calculate the ssim:\n",
        "    # [(2 * mu_x * mu_y + c_1) * (2 * cov_x_y + c_2)] /\n",
        "    # [(mu_x^2 + mu_y^2 + c_1) * (sigma_x^2 + sigma_y^2 + c_2)]\n",
        "    def structural_similarity(self, pred, target, dr=1, kernel_size=3):\n",
        "        c_1 = (0.01 * dr) ** 2\n",
        "        c_2 = (0.03 * dr) ** 2\n",
        "        # Calculate the local mean of pred and target with kernel of size 3\n",
        "        pred_mean = nn.AvgPool2d(kernel_size=kernel_size, stride=1)(pred)\n",
        "        target_mean = nn.AvgPool2d(kernel_size=kernel_size, stride=1)(target)\n",
        "        pred_mean_square = pred_mean.pow(2)\n",
        "        target_mean_square = target_mean.pow(2)\n",
        "        pred_target_mean = pred_mean * target_mean\n",
        "        # Calculate their variance and covariance\n",
        "        pred_variance = nn.AvgPool2d(kernel_size=kernel_size, stride=1)(pred * pred) - pred_mean_square\n",
        "        target_variance = nn.AvgPool2d(kernel_size=kernel_size, stride=1)(target * target) - target_mean_square\n",
        "        covariance = nn.AvgPool2d(kernel_size=kernel_size, stride=1)(pred * target) - pred_target_mean\n",
        "        n = (2 * pred_target_mean + c_1) * (2 * covariance + c_2)\n",
        "        d = (pred_mean_square + target_mean_square + c_1) * (pred_variance + target_variance + c_2)\n",
        "        ssim_norm = torch.clamp((1 - n / d) / 2, 0, 1)\n",
        "        # return the global mean of all local ssim\n",
        "        return torch.mean(ssim_norm)\n",
        "\n",
        "    # Use bounded Gaussian loss for regularization.\n",
        "    def disp_smoothness(self, disp_map, target_image):\n",
        "        disp_grad_x, disp_grad_y = self.gradient(disp_map)\n",
        "        img_grad_x, img_grad_y = self.gradient(target_image)\n",
        "        # Penalty for disparity discontinuity is large in photo-consistent area, but bounded by exp(0)\n",
        "        # Penalty for disparity discontinuity is small when experiencing large gradient jumps, bounded by exp(-inf)\n",
        "        penalty_weight_x = torch.exp(-torch.mean(torch.abs(img_grad_x), 1, keepdim=True))\n",
        "        penalty_weight_y = torch.exp(-torch.mean(torch.abs(img_grad_y), 1, keepdim=True))\n",
        "        smoothness_loss_x = torch.abs(disp_grad_x * penalty_weight_x)\n",
        "        smoothness_loss_y = torch.abs(disp_grad_y * penalty_weight_y)\n",
        "        # Total smoothness loss is the sum of loss along two directions.\n",
        "        return torch.mean(smoothness_loss_x + smoothness_loss_y)\n",
        "\n",
        "    def lr_disp_consistency(self, pred_disp_l, pred_disp_r):\n",
        "        r_to_l_disp = self.generate_image(pred_disp_r, pred_disp_l, True)\n",
        "        l_to_r_disp = self.generate_image(pred_disp_l, pred_disp_r, False)\n",
        "        r_to_l_loss = torch.mean(torch.abs(r_to_l_disp - pred_disp_l))\n",
        "        l_to_r_loss = torch.mean(torch.abs(l_to_r_disp - pred_disp_r))\n",
        "        return r_to_l_loss + l_to_r_loss\n",
        "\n",
        "    def gradient(self, img):  # img: (num_batch, num_channel, height, width)\n",
        "        # Use padding to keep the shape consistent\n",
        "        img_padding_right = F.pad(img, (0, 1, 0, 0), mode=\"replicate\")\n",
        "        img_padding_bottom = F.pad(img, (0, 0, 0, 1), mode=\"replicate\")\n",
        "        grad_x = img_padding_right[:, :, :, :-1] - img_padding_right[:, :, :, 1:]\n",
        "        grad_y = img_padding_bottom[:, :, :-1, :] - img_padding_bottom[:, :, 1:, :]\n",
        "        return grad_x, grad_y\n",
        "\n",
        "    def generate_image(self, img, disp, is_left):\n",
        "        if is_left: disp = -disp\n",
        "        batch_size, _, height, width = img.size()\n",
        "        rows = torch.linspace(0, 1, height).type_as(img)\n",
        "        cols = torch.linspace(0, 1, width).type_as(img)\n",
        "        y, x = torch.meshgrid(rows, cols)\n",
        "        delta_x = disp[:, 0, :, :]\n",
        "        x = x.repeat(batch_size, 1, 1)\n",
        "        y = y.repeat(batch_size, 1, 1)\n",
        "        flow_field = torch.stack((x + delta_x, y), dim=3)\n",
        "        return F.grid_sample(img, 2*flow_field - 1)\n",
        "\n",
        "    def forward(self, pred_disp, target_img):\n",
        "        self.pred_disp_l = pred_disp[:, 0, :, :].unsqueeze(1)\n",
        "        self.pred_disp_r = pred_disp[:, 1, :, :].unsqueeze(1)\n",
        "        target_img_l, target_img_r = target_img\n",
        "        self.pred_img_l = self.generate_image(target_img_r, self.pred_disp_l, True)\n",
        "        self.pred_img_r = self.generate_image(target_img_l, self.pred_disp_r, False)\n",
        "\n",
        "        # Appearance Matching Loss\n",
        "        L1_l = torch.mean(torch.abs(target_img_l - self.pred_img_l))\n",
        "        L1_r = torch.mean(torch.abs(target_img_r - self.pred_img_r))\n",
        "        ssim_l = self.structural_similarity(self.pred_img_l, target_img_l)\n",
        "        ssim_r = self.structural_similarity(self.pred_img_r, target_img_r)\n",
        "        appearance_matching_loss = self.structural_similarity_w * (ssim_l + ssim_r) + \\\n",
        "                                   (1 - self.structural_similarity_w) * (L1_l + L1_r)\n",
        "\n",
        "        # Disparity Smoothness Loss\n",
        "        disp_left_smoothness = self.disp_smoothness(self.pred_disp_l, target_img_l)\n",
        "        disp_right_smoothness = self.disp_smoothness(self.pred_disp_r, target_img_r)\n",
        "        disparity_smoothness_loss = disp_left_smoothness + disp_right_smoothness\n",
        "\n",
        "        # Left-Right Disparity Consistency Loss\n",
        "        l_r_disparity_consistency_loss = self.lr_disp_consistency(self.pred_disp_l, self.pred_disp_r)\n",
        "\n",
        "        loss = appearance_matching_loss + \\\n",
        "            self.disp_smoothness_w * disparity_smoothness_loss + \\\n",
        "            self.lr_disp_consistency_w * l_r_disparity_consistency_loss\n",
        "\n",
        "        return loss"
      ],
      "execution_count": 0,
      "outputs": []
    },
    {
      "cell_type": "markdown",
      "metadata": {
        "colab_type": "text",
        "id": "-0VGVEl36IPa"
      },
      "source": [
        "## Train"
      ]
    },
    {
      "cell_type": "code",
      "metadata": {
        "colab_type": "code",
        "id": "A0-BzMZFtYsW",
        "colab": {}
      },
      "source": [
        "import collections\n",
        "\n",
        "def to_device(input, device='cuda:0'):\n",
        "    if torch.is_tensor(input):\n",
        "        return input.to(device=device)\n",
        "    elif isinstance(input, str):\n",
        "        return input\n",
        "    elif isinstance(input, collections.Mapping):\n",
        "        return {k: to_device(sample, device=device) for k, sample in input.items()}\n",
        "    elif isinstance(input, collections.Sequence):\n",
        "        return [to_device(sample, device=device) for sample in input]\n",
        "    else:\n",
        "        raise TypeError(f\"Input must contain tensor, dict or list, found {type(input)}\")\n",
        "\n",
        "def adjust_learning_rate(optimizer, epoch, learning_rate):\n",
        "    if epoch >= 30 and epoch < 40:\n",
        "        lr = learning_rate / 2\n",
        "    elif epoch >= 40:\n",
        "        lr = learning_rate / 4\n",
        "    else:\n",
        "        lr = learning_rate\n",
        "    for param_group in optimizer.param_groups:\n",
        "        param_group['lr'] = lr\n",
        "\n",
        "def post_process_disparity(disp):\n",
        "    (_, h, w) = disp.shape\n",
        "    l_disp = disp[0, :, :]\n",
        "    r_disp = np.fliplr(disp[1, :, :])\n",
        "    m_disp = 0.5 * (l_disp + r_disp)\n",
        "    (l, _) = np.meshgrid(np.linspace(0, 1, w), np.linspace(0, 1, h))\n",
        "    l_mask = 1.0 - np.clip(20 * (l - 0.05), 0, 1)\n",
        "    r_mask = np.fliplr(l_mask)\n",
        "    return r_mask * l_disp + l_mask * r_disp + (1.0 - l_mask - r_mask) * m_disp\n"
      ],
      "execution_count": 0,
      "outputs": []
    },
    {
      "cell_type": "code",
      "metadata": {
        "colab_type": "code",
        "id": "5feIv_yqvKY1",
        "colab": {}
      },
      "source": [
        "import argparse\n",
        "import time\n",
        "import torch\n",
        "import numpy as np\n",
        "import torch.optim as optim\n",
        "\n",
        "class Model:\n",
        "\n",
        "    def __init__(self, args):\n",
        "        self.args = args\n",
        "\n",
        "        # Set up model\n",
        "        self.model = Depth_Est_Model(num_in_layers=3)\n",
        "        self.model = self.model.to('cuda:0')\n",
        "        if args.mode == 'train':\n",
        "            self.loss_function = Loss().to('cuda:0')\n",
        "            self.optimizer = optim.Adam(self.model.parameters(), lr=args.learning_rate)\n",
        "            # Load validation data\n",
        "            self.val_n_img, self.val_loader = create_dataloader(args.val_data_dir, args.mode, args.batch_size)\n",
        "        else:\n",
        "            self.model.load_state_dict(torch.load(args.model_path))\n",
        "            args.batch_size = 1\n",
        "\n",
        "        # Load training data\n",
        "        self.n_img, self.loader = create_dataloader(args.data_dir, args.mode, args.batch_size)\n",
        "        self.output_directory = args.output_directory\n",
        "        torch.cuda.synchronize()\n",
        "\n",
        "\n",
        "    def train(self):\n",
        "        losses = []\n",
        "        val_losses = []\n",
        "        best_loss = float('Inf')\n",
        "        best_val_loss = float('Inf')\n",
        "        running_val_loss = 0.0\n",
        "\n",
        "        # Compute the initial validation loss using the untrained network\n",
        "        self.model.eval()\n",
        "        for data in self.val_loader:\n",
        "            data = to_device(data)\n",
        "            left = data['left_image']\n",
        "            right = data['right_image']\n",
        "            disps = self.model(left)\n",
        "            loss = self.loss_function(disps, [left, right])\n",
        "            val_losses.append(loss.item())\n",
        "            running_val_loss += loss.item()\n",
        "        \n",
        "        # Compute the initial validation loss per batch\n",
        "        running_val_loss /= self.val_n_img / self.args.batch_size\n",
        "        print('Val_loss:', running_val_loss)\n",
        "\n",
        "        for epoch in range(self.args.epochs):\n",
        "            adjust_learning_rate(self.optimizer, epoch, self.args.learning_rate)\n",
        "            c_time = time.time()\n",
        "\n",
        "            # Training\n",
        "            running_loss = 0.0\n",
        "            self.model.train()\n",
        "            for data in self.loader:\n",
        "                # Load data\n",
        "                data = to_device(data)\n",
        "                left = data['left_image']\n",
        "                right = data['right_image']\n",
        "\n",
        "                # One optimization iteration\n",
        "                self.optimizer.zero_grad()\n",
        "                disps = self.model(left)\n",
        "                loss = self.loss_function(disps, [left, right])\n",
        "                loss.backward()\n",
        "                self.optimizer.step()\n",
        "                losses.append(loss.item())\n",
        "                running_loss += loss.item()\n",
        "\n",
        "            # Validation\n",
        "            running_val_loss = 0.0\n",
        "            self.model.eval()\n",
        "            for data in self.val_loader:\n",
        "                data = to_device(data)\n",
        "                left = data['left_image']\n",
        "                right = data['right_image']\n",
        "                disps = self.model(left)\n",
        "                loss = self.loss_function(disps, [left, right])\n",
        "                val_losses.append(loss.item())\n",
        "                running_val_loss += loss.item()\n",
        "\n",
        "            # Estimate loss per batch\n",
        "            running_loss /= self.n_img / self.args.batch_size\n",
        "            running_val_loss /= self.val_n_img / self.args.batch_size\n",
        "            print ('Epoch:', epoch + 1,\n",
        "                   'train_loss:', running_loss,\n",
        "                   'val_loss:', running_val_loss,\n",
        "                   'time:', round(time.time() - c_time, 3), 's')\n",
        "            self.save(self.args.model_path + '_last.pth')\n",
        "            if running_val_loss < best_val_loss:\n",
        "                self.save(self.args.model_path + '_cpt.pth')\n",
        "                best_val_loss = running_val_loss\n",
        "                print('Model_saved')\n",
        "\n",
        "        print ('Finished Training. Best loss:', best_loss)\n",
        "        self.save(self.args.model_path)\n",
        "\n",
        "    def save(self, path):\n",
        "        torch.save(self.model.state_dict(), path)\n",
        "\n",
        "    def load(self, path):\n",
        "        self.model.load_state_dict(torch.load(path))\n",
        "\n",
        "    def test(self):\n",
        "        self.model.eval()\n",
        "        disparities = np.zeros((self.n_img,\n",
        "                               256, 512),\n",
        "                               dtype=np.float32)\n",
        "        disparities_pp = np.zeros((self.n_img,\n",
        "                                  256, 512),\n",
        "                                  dtype=np.float32)\n",
        "        with torch.no_grad():\n",
        "            for (i, data) in enumerate(self.loader):\n",
        "                # Get the inputs\n",
        "                data = to_device(data)\n",
        "                left = data.squeeze()\n",
        "                # Do a forward pass\n",
        "                disps = self.model(left)\n",
        "                disp = disps[:, 0, :, :].unsqueeze(1)\n",
        "                disparities[i] = disp[0].squeeze().cpu().numpy()\n",
        "                disparities_pp[i] = \\\n",
        "                    post_process_disparity(disps[:, 0, :, :]\\\n",
        "                                           .cpu().numpy())\n",
        "        print(len(disparities_pp))\n",
        "        np.save(self.output_directory + '/disparities.npy', disparities)\n",
        "        np.save(self.output_directory + '/disparities_pp.npy', disparities_pp)\n",
        "        print('Finished Testing')"
      ],
      "execution_count": 0,
      "outputs": []
    },
    {
      "cell_type": "code",
      "metadata": {
        "colab_type": "code",
        "id": "WMsPr8311Sh0",
        "colab": {}
      },
      "source": [
        "from easydict import EasyDict as edict\n",
        "args = edict({'data_dir':'/content/dataset/train',\n",
        "              'val_data_dir':'/content/dataset/validation',\n",
        "              'model_path':'dataset',\n",
        "              'mode':'train',\n",
        "              'epochs':200,\n",
        "              'learning_rate':1e-4,\n",
        "              'batch_size': 8,\n",
        "              'output_directory':'testing_output/', \n",
        "              'input_channels': 3})"
      ],
      "execution_count": 0,
      "outputs": []
    },
    {
      "cell_type": "code",
      "metadata": {
        "colab_type": "code",
        "id": "ly_9tnCk6UNc",
        "colab": {}
      },
      "source": [
        "# Train without pretrained model\n",
        "model = Model(args)\n",
        "model.train()"
      ],
      "execution_count": 0,
      "outputs": []
    },
    {
      "cell_type": "code",
      "metadata": {
        "colab_type": "code",
        "id": "d3qDAHdLUPj-",
        "outputId": "72da72f4-4455-4310-a23c-046f49c1480a",
        "colab": {
          "base_uri": "https://localhost:8080/",
          "height": 337
        }
      },
      "source": [
        "# load losses from local\n",
        "import csv\n",
        "loss = []\n",
        "val_loss = []\n",
        "with open('losses.csv', 'r') as file:\n",
        "    reader = csv.reader(file)\n",
        "    for row in reader:\n",
        "      loss.append(float(row[0]))\n",
        "      val_loss.append(float(row[1]))\n",
        "        # loss.append((float)row))\n",
        "        # print(row)\n",
        "epochs = np.arange(len(loss))\n",
        "print(loss)\n",
        "import matplotlib.pyplot as plt\n",
        "\n",
        "plt.figure()\n",
        "plt.plot(epochs,loss)\n",
        "plt.plot(epochs,val_loss)\n",
        "labels = [\"loss\",\"val_loss\"]\n",
        "plt.ylabel(\"loss\")\n",
        "plt.xlabel(\"epochs\")\n",
        "plt.legend(labels,loc = \"upper right\")"
      ],
      "execution_count": 0,
      "outputs": [
        {
          "output_type": "stream",
          "text": [
            "[0.5833239185090606, 0.5392689951212867, 0.5139510468193659, 0.4929331028717114, 0.4752719935157623, 0.4589763726302253, 0.4442545501416949, 0.43157764834938483, 0.420018585449623, 0.40910318182581856, 0.39828727468694874, 0.38720173093634813, 0.37550568086725333, 0.3648246563998251, 0.3531749500996262, 0.3429895746035924, 0.3328861317844491, 0.32287958083688784, 0.3133964761384225, 0.30587294156170963, 0.2974440427377684, 0.29049167736902726, 0.28368572881359333, 0.27788344050742314, 0.2723226540038472, 0.26791213252267215, 0.2637390079239309, 0.25865318352352473, 0.254003650780717, 0.25041690521621424, 0.24217611447201254, 0.23962927319742153, 0.2380251001927033, 0.23602270951000995, 0.23440315171578563, 0.23334471651159208, 0.233448024915593, 0.23093077070438706, 0.22912661312633392, 0.22825988949267292, 0.22457494673821707, 0.22331278960184464, 0.22210210478248035]\n"
          ],
          "name": "stdout"
        },
        {
          "output_type": "execute_result",
          "data": {
            "text/plain": [
              "<matplotlib.legend.Legend at 0x7fa2aa5d40b8>"
            ]
          },
          "metadata": {
            "tags": []
          },
          "execution_count": 9
        },
        {
          "output_type": "display_data",
          "data": {
            "image/png": "[encoded data removed]",
            "text/plain": [
              "<Figure size 432x288 with 1 Axes>"
            ]
          },
          "metadata": {
            "tags": [],
            "needs_background": "light"
          }
        }
      ]
    },
    {
      "cell_type": "code",
      "metadata": {
        "colab_type": "code",
        "id": "dVvnYMtKW46h",
        "outputId": "cd2cc33a-7c44-43a9-cff8-2cb1ae1754d6",
        "colab": {
          "base_uri": "https://localhost:8080/",
          "height": 748
        }
      },
      "source": [
        "# print the loss history in the model\n",
        "for i in range(len(loss)):\n",
        "  print(\"epochs  {0} loss: {1}  val_loss  {2}\".format(i+1, loss[i], val_loss[i]))"
      ],
      "execution_count": 0,
      "outputs": [
        {
          "output_type": "stream",
          "text": [
            "epochs  1 loss: 0.5833239185090606  val_loss  0.5479436865750196\n",
            "epochs  2 loss: 0.5392689951212867  val_loss  0.525249026720492\n",
            "epochs  3 loss: 0.5139510468193659  val_loss  0.489516802676832\n",
            "epochs  4 loss: 0.4929331028717114  val_loss  0.45962558403488035\n",
            "epochs  5 loss: 0.4752719935157623  val_loss  0.45323426293023283\n",
            "epochs  6 loss: 0.4589763726302253  val_loss  0.4530073797634583\n",
            "epochs  7 loss: 0.4442545501416949  val_loss  0.429679864997403\n",
            "epochs  8 loss: 0.43157764834938483  val_loss  0.42204896947493314\n",
            "epochs  9 loss: 0.420018585449623  val_loss  0.40914464883567875\n",
            "epochs  10 loss: 0.40910318182581856  val_loss  0.395912802530108\n",
            "epochs  11 loss: 0.39828727468694874  val_loss  0.39436087741718423\n",
            "epochs  12 loss: 0.38720173093634813  val_loss  0.4051278235422754\n",
            "epochs  13 loss: 0.37550568086725333  val_loss  0.36081880084739243\n",
            "epochs  14 loss: 0.3648246563998251  val_loss  0.34594174781879344\n",
            "epochs  15 loss: 0.3531749500996262  val_loss  0.3454954899274386\n",
            "epochs  16 loss: 0.3429895746035924  val_loss  0.33400239629193773\n",
            "epochs  17 loss: 0.3328861317844491  val_loss  0.35917018586029614\n",
            "epochs  18 loss: 0.32287958083688784  val_loss  0.32641895068957405\n",
            "epochs  19 loss: 0.3133964761384225  val_loss  0.32117010110211236\n",
            "epochs  20 loss: 0.30587294156170963  val_loss  0.32055655748921447\n",
            "epochs  21 loss: 0.2974440427377684  val_loss  0.3108719061380424\n",
            "epochs  22 loss: 0.29049167736902726  val_loss  0.30578834223883666\n",
            "epochs  23 loss: 0.28368572881359333  val_loss  0.2928661424796898\n",
            "epochs  24 loss: 0.27788344050742314  val_loss  0.2962981925144062\n",
            "epochs  25 loss: 0.2723226540038472  val_loss  0.28790472232833153\n",
            "epochs  26 loss: 0.26791213252267215  val_loss  0.2946628388218719\n",
            "epochs  27 loss: 0.2637390079239309  val_loss  0.2934975465315584\n",
            "epochs  28 loss: 0.25865318352352473  val_loss  0.28585570277640265\n",
            "epochs  29 loss: 0.254003650780717  val_loss  0.2799354952683664\n",
            "epochs  30 loss: 0.25041690521621424  val_loss  0.2804306163123968\n",
            "epochs  31 loss: 0.24217611447201254  val_loss  0.27808154641028354\n",
            "epochs  32 loss: 0.23962927319742153  val_loss  0.27652513810349966\n",
            "epochs  33 loss: 0.2380251001927033  val_loss  0.2770234513494973\n",
            "epochs  34 loss: 0.23602270951000995  val_loss  0.2767609032717618\n",
            "epochs  35 loss: 0.23440315171578563  val_loss  0.2757098070012485\n",
            "epochs  36 loss: 0.23334471651159208  val_loss  0.27672349762477016\n",
            "epochs  37 loss: 0.233448024915593  val_loss  0.27756644856452334\n",
            "epochs  38 loss: 0.23093077070438706  val_loss  0.27541914834236536\n",
            "epochs  39 loss: 0.22912661312633392  val_loss  0.27583673780159973\n",
            "epochs  40 loss: 0.22825988949267292  val_loss  0.27446712920109484\n",
            "epochs  41 loss: 0.22457494673821707  val_loss  0.2728565654327213\n",
            "epochs  42 loss: 0.22331278960184464  val_loss  0.2745949627105703\n",
            "epochs  43 loss: 0.22210210478248035  val_loss  0.275499760119383\n"
          ],
          "name": "stdout"
        }
      ]
    },
    {
      "cell_type": "code",
      "metadata": {
        "colab_type": "code",
        "id": "wo-5iJJt5rtj",
        "colab": {}
      },
      "source": [
        "# Train with previous best model\n",
        "# model = Model(args)\n",
        "# model.load('models/model_cpt.pth')\n",
        "# model.train()"
      ],
      "execution_count": 0,
      "outputs": []
    },
    {
      "cell_type": "code",
      "metadata": {
        "colab_type": "code",
        "id": "Yeeo4u6P6vBA",
        "colab": {}
      },
      "source": [
        "test_args = edict({'data_dir':'test',\n",
        "                   'model_path':'models/model_cpt.pth', \n",
        "                   'output_directory':'test/2011_09_26_drive_0101_sync', \n",
        "                   'mode':'test'})"
      ],
      "execution_count": 0,
      "outputs": []
    },
    {
      "cell_type": "code",
      "metadata": {
        "colab_type": "code",
        "id": "7_BfGHWb6ltP",
        "outputId": "8e3193d5-613e-4598-d542-fd688546c740",
        "colab": {
          "base_uri": "https://localhost:8080/",
          "height": 68
        }
      },
      "source": [
        "# Test with previous best model\n",
        "model = Model(test_args)\n",
        "model.test()"
      ],
      "execution_count": 0,
      "outputs": [
        {
          "output_type": "stream",
          "text": [
            "Use a dataset with 936 images\n",
            "936\n",
            "Finished Testing\n"
          ],
          "name": "stdout"
        }
      ]
    },
    {
      "cell_type": "code",
      "metadata": {
        "colab_type": "code",
        "id": "z57OXO4uOgMt",
        "outputId": "340ea905-4339-4210-c730-5ff670554233",
        "colab": {
          "base_uri": "https://localhost:8080/",
          "height": 350
        }
      },
      "source": [
        "import skimage.transform\n",
        "import matplotlib.pyplot as plt\n",
        "\n",
        "disp = np.load('test/2011_09_26_drive_0101_sync/disparities_pp.npy')  # Or disparities.npy for output without post-processing\n",
        "disp.shape\n",
        "disp_to_img = skimage.transform.resize(disp[0].squeeze(), [375, 1242], mode='constant')\n",
        "plt.imshow(disp_to_img, cmap='plasma')\n",
        "plt.imsave(os.path.join(test_args.output_directory,\n",
        "                        test_args.model_path.split('/')[-1][:-4]+'_test_output.png'), disp_to_img, cmap='plasma')"
      ],
      "execution_count": 0,
      "outputs": [
        {
          "output_type": "display_data",
          "data": {
            "image/png": "[encoded data removed]",
            "text/plain": [
              "<Figure size 432x288 with 1 Axes>"
            ]
          },
          "metadata": {
            "tags": [],
            "needs_background": "light"
          }
        }
      ]
    },
    {
      "cell_type": "markdown",
      "metadata": {
        "colab_type": "text",
        "id": "8RgMyc7qXhC5"
      },
      "source": [
        "## Conclusion\n",
        "\n",
        "### 1) Training Datasets:\n",
        "Only the partial kitti dataset is used to train our model. The total size of kitti dataset is 175GB which is neither possible nor necessary for this project. Therefore, the chosen training dataset is of size 110GB that is about 2/3 portion of the whole dataset. As a result, the overall accuracy still have the room for improvement.\n",
        "\n",
        "### 2) Loss\n",
        "Due to the time and computational contraints, our network was only trained for 43 epochs with learning rate of 0.0001. The loss graph shows the validation loss starts to converge around the 30th epoch, and the training loss still keeps declining, which is arguably the sign of overfitting. In comparison with the original model Godard et al. presented, we simplify their architecture so that our network only produces one pair of disparity maps instead of four. Consequently, we observed that, with the same amount of data and training epoches, our final loss (~ 0.2) is about one quarter of the origianl loss (~ 0.9).\n",
        "\n",
        "### 3) Prediction\n",
        "For demonstration purposes, We generated two gif files from our testing results (Please find them in your unzipped folder or open the Juypter notebook). Our model preforms well when there exists different objects at different depth levels in the scene, for instance, trees, street lights and traffic signs.\n",
        "\n",
        "From the second gif, We also observed that, the network could yield mispredictions in the photo-consistent areas where less occlusions are found. The sky tends to be considered as near oject somehow for its brighter color, whereas road that near the camera shows color in blue when referenced objects were absent. We may argue that parameter tuning in kernel size might mitigate this artifact since larger kernel could magnify the difference between patches, which leads to easy correspondence matching between stereo pairs.\n",
        "\n"
      ]
    },
    {
      "cell_type": "markdown",
      "metadata": {
        "colab_type": "text",
        "id": "TKL9OGr9HfrA"
      },
      "source": [
        "# ![alt text](https://drive.google.com/uc?id=1Nq2Lk9ls8jN3-zOpZHMrUESLI8WNUYAp)\n",
        "![alt text](https://drive.google.com/uc?id=1HVQBDJ2b68KwCwRBeKX8yykqvmq8b7QC)\n"
      ]
    },
    {
      "cell_type": "code",
      "metadata": {
        "id": "1IEUO61OiXWM",
        "colab_type": "code",
        "colab": {}
      },
      "source": [
        ""
      ],
      "execution_count": 0,
      "outputs": []
    }
  ]
}